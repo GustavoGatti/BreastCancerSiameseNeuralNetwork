{
  "nbformat": 4,
  "nbformat_minor": 0,
  "metadata": {
    "colab": {
      "name": "Sia.ipynb",
      "provenance": [],
      "mount_file_id": "14m1-HqhCZWI0lX5wMHHTdmXmG7yOgkSC",
      "authorship_tag": "ABX9TyOfibRFSy4djZxrl6j4dyEx",
      "include_colab_link": true
    },
    "kernelspec": {
      "name": "python3",
      "display_name": "Python 3"
    },
    "accelerator": "GPU"
  },
  "cells": [
    {
      "cell_type": "markdown",
      "metadata": {
        "id": "view-in-github",
        "colab_type": "text"
      },
      "source": [
        "<a href=\"https://colab.research.google.com/github/GustavoGatti/BreastCancerSiameseNeuralNetwork/blob/main/Sia.ipynb\" target=\"_parent\"><img src=\"https://colab.research.google.com/assets/colab-badge.svg\" alt=\"Open In Colab\"/></a>"
      ]
    },
    {
      "cell_type": "code",
      "metadata": {
        "id": "ehGv0Te-yUaq",
        "colab": {
          "base_uri": "https://localhost:8080/",
          "height": 423
        },
        "outputId": "47ab60ae-05aa-4c85-d02a-c001845b4183"
      },
      "source": [
        "!pip install tensorflow-gpu==2.0.0-rc0"
      ],
      "execution_count": null,
      "outputs": [
        {
          "output_type": "stream",
          "text": [
            "Requirement already satisfied: tensorflow-gpu==2.0.0-rc0 in /usr/local/lib/python3.6/dist-packages (2.0.0rc0)\n",
            "Requirement already satisfied: tb-nightly<1.15.0a20190807,>=1.15.0a20190806 in /usr/local/lib/python3.6/dist-packages (from tensorflow-gpu==2.0.0-rc0) (1.15.0a20190806)\n",
            "Requirement already satisfied: keras-applications>=1.0.8 in /usr/local/lib/python3.6/dist-packages (from tensorflow-gpu==2.0.0-rc0) (1.0.8)\n",
            "Requirement already satisfied: gast>=0.2.0 in /usr/local/lib/python3.6/dist-packages (from tensorflow-gpu==2.0.0-rc0) (0.3.3)\n",
            "Requirement already satisfied: numpy<2.0,>=1.16.0 in /usr/local/lib/python3.6/dist-packages (from tensorflow-gpu==2.0.0-rc0) (1.18.5)\n",
            "Requirement already satisfied: six>=1.10.0 in /usr/local/lib/python3.6/dist-packages (from tensorflow-gpu==2.0.0-rc0) (1.15.0)\n",
            "Requirement already satisfied: tf-estimator-nightly<1.14.0.dev2019080602,>=1.14.0.dev2019080601 in /usr/local/lib/python3.6/dist-packages (from tensorflow-gpu==2.0.0-rc0) (1.14.0.dev2019080601)\n",
            "Requirement already satisfied: wheel>=0.26 in /usr/local/lib/python3.6/dist-packages (from tensorflow-gpu==2.0.0-rc0) (0.34.2)\n",
            "Requirement already satisfied: absl-py>=0.7.0 in /usr/local/lib/python3.6/dist-packages (from tensorflow-gpu==2.0.0-rc0) (0.9.0)\n",
            "Requirement already satisfied: wrapt>=1.11.1 in /usr/local/lib/python3.6/dist-packages (from tensorflow-gpu==2.0.0-rc0) (1.12.1)\n",
            "Requirement already satisfied: grpcio>=1.8.6 in /usr/local/lib/python3.6/dist-packages (from tensorflow-gpu==2.0.0-rc0) (1.30.0)\n",
            "Requirement already satisfied: protobuf>=3.6.1 in /usr/local/lib/python3.6/dist-packages (from tensorflow-gpu==2.0.0-rc0) (3.12.4)\n",
            "Requirement already satisfied: opt-einsum>=2.3.2 in /usr/local/lib/python3.6/dist-packages (from tensorflow-gpu==2.0.0-rc0) (3.3.0)\n",
            "Requirement already satisfied: astor>=0.6.0 in /usr/local/lib/python3.6/dist-packages (from tensorflow-gpu==2.0.0-rc0) (0.8.1)\n",
            "Requirement already satisfied: termcolor>=1.1.0 in /usr/local/lib/python3.6/dist-packages (from tensorflow-gpu==2.0.0-rc0) (1.1.0)\n",
            "Requirement already satisfied: google-pasta>=0.1.6 in /usr/local/lib/python3.6/dist-packages (from tensorflow-gpu==2.0.0-rc0) (0.2.0)\n",
            "Requirement already satisfied: keras-preprocessing>=1.0.5 in /usr/local/lib/python3.6/dist-packages (from tensorflow-gpu==2.0.0-rc0) (1.1.2)\n",
            "Requirement already satisfied: markdown>=2.6.8 in /usr/local/lib/python3.6/dist-packages (from tb-nightly<1.15.0a20190807,>=1.15.0a20190806->tensorflow-gpu==2.0.0-rc0) (3.2.2)\n",
            "Requirement already satisfied: setuptools>=41.0.0 in /usr/local/lib/python3.6/dist-packages (from tb-nightly<1.15.0a20190807,>=1.15.0a20190806->tensorflow-gpu==2.0.0-rc0) (49.2.0)\n",
            "Requirement already satisfied: werkzeug>=0.11.15 in /usr/local/lib/python3.6/dist-packages (from tb-nightly<1.15.0a20190807,>=1.15.0a20190806->tensorflow-gpu==2.0.0-rc0) (1.0.1)\n",
            "Requirement already satisfied: h5py in /usr/local/lib/python3.6/dist-packages (from keras-applications>=1.0.8->tensorflow-gpu==2.0.0-rc0) (2.10.0)\n",
            "Requirement already satisfied: importlib-metadata; python_version < \"3.8\" in /usr/local/lib/python3.6/dist-packages (from markdown>=2.6.8->tb-nightly<1.15.0a20190807,>=1.15.0a20190806->tensorflow-gpu==2.0.0-rc0) (1.7.0)\n",
            "Requirement already satisfied: zipp>=0.5 in /usr/local/lib/python3.6/dist-packages (from importlib-metadata; python_version < \"3.8\"->markdown>=2.6.8->tb-nightly<1.15.0a20190807,>=1.15.0a20190806->tensorflow-gpu==2.0.0-rc0) (3.1.0)\n"
          ],
          "name": "stdout"
        }
      ]
    },
    {
      "cell_type": "code",
      "metadata": {
        "id": "ZE8q3Jrjyfb2",
        "colab": {
          "base_uri": "https://localhost:8080/",
          "height": 555
        },
        "outputId": "9d5084f5-2953-4f91-f49c-68ead4587a97"
      },
      "source": [
        "import tensorflow as tf\n",
        "from tensorflow import keras\n",
        "from tensorflow.keras import Sequential, Model\n",
        "from tensorflow.keras.layers import Flatten, Dense, Dropout, BatchNormalization, Input, Lambda, Reshape\n",
        "from tensorflow.keras.layers import Conv1D, MaxPool1D\n",
        "from tensorflow.keras.preprocessing.image import ImageDataGenerator\n",
        "from tensorflow.keras.optimizers import Adam\n",
        "\n",
        "import pandas as pd\n",
        "import numpy as np\n",
        "import math\n",
        "import seaborn as sns\n",
        "import matplotlib.pyplot as plt\n",
        "from keras.regularizers import l2\n",
        "\n",
        "from sklearn import datasets, metrics\n",
        "from sklearn.model_selection import train_test_split\n",
        "from sklearn.preprocessing import StandardScaler \n",
        "from numpy import mean\n",
        "from numpy import std\n",
        "from numpy import ndarray\n",
        "import numpy.random as rng\n",
        "import random\n",
        "from keras.layers import add"
      ],
      "execution_count": null,
      "outputs": [
        {
          "output_type": "error",
          "ename": "ImportError",
          "evalue": "ignored",
          "traceback": [
            "\u001b[0;31m---------------------------------------------------------------------------\u001b[0m",
            "\u001b[0;31mModuleNotFoundError\u001b[0m                       Traceback (most recent call last)",
            "\u001b[0;32m/usr/local/lib/python3.6/dist-packages/keras/__init__.py\u001b[0m in \u001b[0;36m<module>\u001b[0;34m()\u001b[0m\n\u001b[1;32m      2\u001b[0m \u001b[0;32mtry\u001b[0m\u001b[0;34m:\u001b[0m\u001b[0;34m\u001b[0m\u001b[0;34m\u001b[0m\u001b[0m\n\u001b[0;32m----> 3\u001b[0;31m     \u001b[0;32mfrom\u001b[0m \u001b[0mtensorflow\u001b[0m\u001b[0;34m.\u001b[0m\u001b[0mkeras\u001b[0m\u001b[0;34m.\u001b[0m\u001b[0mlayers\u001b[0m\u001b[0;34m.\u001b[0m\u001b[0mexperimental\u001b[0m\u001b[0;34m.\u001b[0m\u001b[0mpreprocessing\u001b[0m \u001b[0;32mimport\u001b[0m \u001b[0mRandomRotation\u001b[0m\u001b[0;34m\u001b[0m\u001b[0;34m\u001b[0m\u001b[0m\n\u001b[0m\u001b[1;32m      4\u001b[0m \u001b[0;32mexcept\u001b[0m \u001b[0mImportError\u001b[0m\u001b[0;34m:\u001b[0m\u001b[0;34m\u001b[0m\u001b[0;34m\u001b[0m\u001b[0m\n",
            "\u001b[0;31mModuleNotFoundError\u001b[0m: No module named 'tensorflow.keras.layers.experimental.preprocessing'",
            "\nDuring handling of the above exception, another exception occurred:\n",
            "\u001b[0;31mImportError\u001b[0m                               Traceback (most recent call last)",
            "\u001b[0;32m<ipython-input-7-c28b5f2a7cab>\u001b[0m in \u001b[0;36m<module>\u001b[0;34m()\u001b[0m\n\u001b[1;32m     12\u001b[0m \u001b[0;32mimport\u001b[0m \u001b[0mseaborn\u001b[0m \u001b[0;32mas\u001b[0m \u001b[0msns\u001b[0m\u001b[0;34m\u001b[0m\u001b[0;34m\u001b[0m\u001b[0m\n\u001b[1;32m     13\u001b[0m \u001b[0;32mimport\u001b[0m \u001b[0mmatplotlib\u001b[0m\u001b[0;34m.\u001b[0m\u001b[0mpyplot\u001b[0m \u001b[0;32mas\u001b[0m \u001b[0mplt\u001b[0m\u001b[0;34m\u001b[0m\u001b[0;34m\u001b[0m\u001b[0m\n\u001b[0;32m---> 14\u001b[0;31m \u001b[0;32mfrom\u001b[0m \u001b[0mkeras\u001b[0m\u001b[0;34m.\u001b[0m\u001b[0mregularizers\u001b[0m \u001b[0;32mimport\u001b[0m \u001b[0ml2\u001b[0m\u001b[0;34m\u001b[0m\u001b[0;34m\u001b[0m\u001b[0m\n\u001b[0m\u001b[1;32m     15\u001b[0m \u001b[0;34m\u001b[0m\u001b[0m\n\u001b[1;32m     16\u001b[0m \u001b[0;32mfrom\u001b[0m \u001b[0msklearn\u001b[0m \u001b[0;32mimport\u001b[0m \u001b[0mdatasets\u001b[0m\u001b[0;34m,\u001b[0m \u001b[0mmetrics\u001b[0m\u001b[0;34m\u001b[0m\u001b[0;34m\u001b[0m\u001b[0m\n",
            "\u001b[0;32m/usr/local/lib/python3.6/dist-packages/keras/__init__.py\u001b[0m in \u001b[0;36m<module>\u001b[0;34m()\u001b[0m\n\u001b[1;32m      4\u001b[0m \u001b[0;32mexcept\u001b[0m \u001b[0mImportError\u001b[0m\u001b[0;34m:\u001b[0m\u001b[0;34m\u001b[0m\u001b[0;34m\u001b[0m\u001b[0m\n\u001b[1;32m      5\u001b[0m     raise ImportError(\n\u001b[0;32m----> 6\u001b[0;31m         \u001b[0;34m'Keras requires TensorFlow 2.2 or higher. '\u001b[0m\u001b[0;34m\u001b[0m\u001b[0;34m\u001b[0m\u001b[0m\n\u001b[0m\u001b[1;32m      7\u001b[0m         'Install TensorFlow via `pip install tensorflow`')\n\u001b[1;32m      8\u001b[0m \u001b[0;34m\u001b[0m\u001b[0m\n",
            "\u001b[0;31mImportError\u001b[0m: Keras requires TensorFlow 2.2 or higher. Install TensorFlow via `pip install tensorflow`",
            "",
            "\u001b[0;31m---------------------------------------------------------------------------\u001b[0;32m\nNOTE: If your import is failing due to a missing package, you can\nmanually install dependencies using either !pip or !apt.\n\nTo view examples of installing some common dependencies, click the\n\"Open Examples\" button below.\n\u001b[0;31m---------------------------------------------------------------------------\u001b[0m\n"
          ]
        }
      ]
    },
    {
      "cell_type": "code",
      "metadata": {
        "id": "WGsgyFgSyhln"
      },
      "source": [
        "from keras import backend as K\n",
        "import keras as KER"
      ],
      "execution_count": null,
      "outputs": []
    },
    {
      "cell_type": "code",
      "metadata": {
        "id": "JxMef-PKyjin"
      },
      "source": [
        "from keras.layers import merge"
      ],
      "execution_count": null,
      "outputs": []
    },
    {
      "cell_type": "code",
      "metadata": {
        "id": "iv08lk-7ykb1"
      },
      "source": [
        "from keras.layers.convolutional import MaxPooling1D\n",
        "from keras.utils import to_categorical"
      ],
      "execution_count": null,
      "outputs": []
    },
    {
      "cell_type": "code",
      "metadata": {
        "id": "iE3WAEJwzigm",
        "colab": {
          "base_uri": "https://localhost:8080/",
          "height": 195
        },
        "outputId": "14e1a24c-8532-4275-8ce4-415501ad5648"
      },
      "source": [
        "df = pd.read_csv('/content/drive/My Drive/Colab Notebooks/dataR234.csv')\n",
        "df.head()"
      ],
      "execution_count": null,
      "outputs": [
        {
          "output_type": "execute_result",
          "data": {
            "text/html": [
              "<div>\n",
              "<style scoped>\n",
              "    .dataframe tbody tr th:only-of-type {\n",
              "        vertical-align: middle;\n",
              "    }\n",
              "\n",
              "    .dataframe tbody tr th {\n",
              "        vertical-align: top;\n",
              "    }\n",
              "\n",
              "    .dataframe thead th {\n",
              "        text-align: right;\n",
              "    }\n",
              "</style>\n",
              "<table border=\"1\" class=\"dataframe\">\n",
              "  <thead>\n",
              "    <tr style=\"text-align: right;\">\n",
              "      <th></th>\n",
              "      <th>Age</th>\n",
              "      <th>BMI</th>\n",
              "      <th>Glucose</th>\n",
              "      <th>Insulin</th>\n",
              "      <th>HOMA</th>\n",
              "      <th>Leptin</th>\n",
              "      <th>Adiponectin</th>\n",
              "      <th>Resistin</th>\n",
              "      <th>MCP.1</th>\n",
              "      <th>Classification</th>\n",
              "    </tr>\n",
              "  </thead>\n",
              "  <tbody>\n",
              "    <tr>\n",
              "      <th>0</th>\n",
              "      <td>48</td>\n",
              "      <td>23.500000</td>\n",
              "      <td>70</td>\n",
              "      <td>2.707</td>\n",
              "      <td>0.467409</td>\n",
              "      <td>8.8071</td>\n",
              "      <td>9.702400</td>\n",
              "      <td>7.99585</td>\n",
              "      <td>417.114</td>\n",
              "      <td>0</td>\n",
              "    </tr>\n",
              "    <tr>\n",
              "      <th>1</th>\n",
              "      <td>83</td>\n",
              "      <td>20.690495</td>\n",
              "      <td>92</td>\n",
              "      <td>3.115</td>\n",
              "      <td>0.706897</td>\n",
              "      <td>8.8438</td>\n",
              "      <td>5.429285</td>\n",
              "      <td>4.06405</td>\n",
              "      <td>468.786</td>\n",
              "      <td>0</td>\n",
              "    </tr>\n",
              "    <tr>\n",
              "      <th>2</th>\n",
              "      <td>82</td>\n",
              "      <td>23.124670</td>\n",
              "      <td>91</td>\n",
              "      <td>4.498</td>\n",
              "      <td>1.009651</td>\n",
              "      <td>17.9393</td>\n",
              "      <td>22.432040</td>\n",
              "      <td>9.27715</td>\n",
              "      <td>554.697</td>\n",
              "      <td>0</td>\n",
              "    </tr>\n",
              "    <tr>\n",
              "      <th>3</th>\n",
              "      <td>68</td>\n",
              "      <td>21.367521</td>\n",
              "      <td>77</td>\n",
              "      <td>3.226</td>\n",
              "      <td>0.612725</td>\n",
              "      <td>9.8827</td>\n",
              "      <td>7.169560</td>\n",
              "      <td>12.76600</td>\n",
              "      <td>928.220</td>\n",
              "      <td>0</td>\n",
              "    </tr>\n",
              "    <tr>\n",
              "      <th>4</th>\n",
              "      <td>86</td>\n",
              "      <td>21.111111</td>\n",
              "      <td>92</td>\n",
              "      <td>3.549</td>\n",
              "      <td>0.805386</td>\n",
              "      <td>6.6994</td>\n",
              "      <td>4.819240</td>\n",
              "      <td>10.57635</td>\n",
              "      <td>773.920</td>\n",
              "      <td>0</td>\n",
              "    </tr>\n",
              "  </tbody>\n",
              "</table>\n",
              "</div>"
            ],
            "text/plain": [
              "   Age        BMI  Glucose  ...  Resistin    MCP.1  Classification\n",
              "0   48  23.500000       70  ...   7.99585  417.114               0\n",
              "1   83  20.690495       92  ...   4.06405  468.786               0\n",
              "2   82  23.124670       91  ...   9.27715  554.697               0\n",
              "3   68  21.367521       77  ...  12.76600  928.220               0\n",
              "4   86  21.111111       92  ...  10.57635  773.920               0\n",
              "\n",
              "[5 rows x 10 columns]"
            ]
          },
          "metadata": {
            "tags": []
          },
          "execution_count": 11
        }
      ]
    },
    {
      "cell_type": "code",
      "metadata": {
        "id": "tyFIdpUMzmBj",
        "colab": {
          "base_uri": "https://localhost:8080/",
          "height": 402
        },
        "outputId": "6a33b590-ce2c-42fd-9c1e-53b878740766"
      },
      "source": [
        "z = pd.DataFrame(data=df)\n",
        "z.drop('Classification', inplace=True, axis=1)\n",
        "z"
      ],
      "execution_count": null,
      "outputs": [
        {
          "output_type": "execute_result",
          "data": {
            "text/html": [
              "<div>\n",
              "<style scoped>\n",
              "    .dataframe tbody tr th:only-of-type {\n",
              "        vertical-align: middle;\n",
              "    }\n",
              "\n",
              "    .dataframe tbody tr th {\n",
              "        vertical-align: top;\n",
              "    }\n",
              "\n",
              "    .dataframe thead th {\n",
              "        text-align: right;\n",
              "    }\n",
              "</style>\n",
              "<table border=\"1\" class=\"dataframe\">\n",
              "  <thead>\n",
              "    <tr style=\"text-align: right;\">\n",
              "      <th></th>\n",
              "      <th>Age</th>\n",
              "      <th>BMI</th>\n",
              "      <th>Glucose</th>\n",
              "      <th>Insulin</th>\n",
              "      <th>HOMA</th>\n",
              "      <th>Leptin</th>\n",
              "      <th>Adiponectin</th>\n",
              "      <th>Resistin</th>\n",
              "      <th>MCP.1</th>\n",
              "    </tr>\n",
              "  </thead>\n",
              "  <tbody>\n",
              "    <tr>\n",
              "      <th>0</th>\n",
              "      <td>48</td>\n",
              "      <td>23.500000</td>\n",
              "      <td>70</td>\n",
              "      <td>2.707</td>\n",
              "      <td>0.467409</td>\n",
              "      <td>8.8071</td>\n",
              "      <td>9.702400</td>\n",
              "      <td>7.99585</td>\n",
              "      <td>417.114</td>\n",
              "    </tr>\n",
              "    <tr>\n",
              "      <th>1</th>\n",
              "      <td>83</td>\n",
              "      <td>20.690495</td>\n",
              "      <td>92</td>\n",
              "      <td>3.115</td>\n",
              "      <td>0.706897</td>\n",
              "      <td>8.8438</td>\n",
              "      <td>5.429285</td>\n",
              "      <td>4.06405</td>\n",
              "      <td>468.786</td>\n",
              "    </tr>\n",
              "    <tr>\n",
              "      <th>2</th>\n",
              "      <td>82</td>\n",
              "      <td>23.124670</td>\n",
              "      <td>91</td>\n",
              "      <td>4.498</td>\n",
              "      <td>1.009651</td>\n",
              "      <td>17.9393</td>\n",
              "      <td>22.432040</td>\n",
              "      <td>9.27715</td>\n",
              "      <td>554.697</td>\n",
              "    </tr>\n",
              "    <tr>\n",
              "      <th>3</th>\n",
              "      <td>68</td>\n",
              "      <td>21.367521</td>\n",
              "      <td>77</td>\n",
              "      <td>3.226</td>\n",
              "      <td>0.612725</td>\n",
              "      <td>9.8827</td>\n",
              "      <td>7.169560</td>\n",
              "      <td>12.76600</td>\n",
              "      <td>928.220</td>\n",
              "    </tr>\n",
              "    <tr>\n",
              "      <th>4</th>\n",
              "      <td>86</td>\n",
              "      <td>21.111111</td>\n",
              "      <td>92</td>\n",
              "      <td>3.549</td>\n",
              "      <td>0.805386</td>\n",
              "      <td>6.6994</td>\n",
              "      <td>4.819240</td>\n",
              "      <td>10.57635</td>\n",
              "      <td>773.920</td>\n",
              "    </tr>\n",
              "    <tr>\n",
              "      <th>...</th>\n",
              "      <td>...</td>\n",
              "      <td>...</td>\n",
              "      <td>...</td>\n",
              "      <td>...</td>\n",
              "      <td>...</td>\n",
              "      <td>...</td>\n",
              "      <td>...</td>\n",
              "      <td>...</td>\n",
              "      <td>...</td>\n",
              "    </tr>\n",
              "    <tr>\n",
              "      <th>111</th>\n",
              "      <td>45</td>\n",
              "      <td>26.850000</td>\n",
              "      <td>92</td>\n",
              "      <td>3.330</td>\n",
              "      <td>0.755688</td>\n",
              "      <td>54.6800</td>\n",
              "      <td>12.100000</td>\n",
              "      <td>10.96000</td>\n",
              "      <td>268.230</td>\n",
              "    </tr>\n",
              "    <tr>\n",
              "      <th>112</th>\n",
              "      <td>62</td>\n",
              "      <td>26.840000</td>\n",
              "      <td>100</td>\n",
              "      <td>4.530</td>\n",
              "      <td>1.117400</td>\n",
              "      <td>12.4500</td>\n",
              "      <td>21.420000</td>\n",
              "      <td>7.32000</td>\n",
              "      <td>330.160</td>\n",
              "    </tr>\n",
              "    <tr>\n",
              "      <th>113</th>\n",
              "      <td>65</td>\n",
              "      <td>32.050000</td>\n",
              "      <td>97</td>\n",
              "      <td>5.730</td>\n",
              "      <td>1.370998</td>\n",
              "      <td>61.4800</td>\n",
              "      <td>22.540000</td>\n",
              "      <td>10.33000</td>\n",
              "      <td>314.050</td>\n",
              "    </tr>\n",
              "    <tr>\n",
              "      <th>114</th>\n",
              "      <td>72</td>\n",
              "      <td>25.590000</td>\n",
              "      <td>82</td>\n",
              "      <td>2.820</td>\n",
              "      <td>0.570392</td>\n",
              "      <td>24.9600</td>\n",
              "      <td>33.750000</td>\n",
              "      <td>3.27000</td>\n",
              "      <td>392.460</td>\n",
              "    </tr>\n",
              "    <tr>\n",
              "      <th>115</th>\n",
              "      <td>86</td>\n",
              "      <td>27.180000</td>\n",
              "      <td>138</td>\n",
              "      <td>19.910</td>\n",
              "      <td>6.777364</td>\n",
              "      <td>90.2800</td>\n",
              "      <td>14.110000</td>\n",
              "      <td>4.35000</td>\n",
              "      <td>90.090</td>\n",
              "    </tr>\n",
              "  </tbody>\n",
              "</table>\n",
              "<p>116 rows × 9 columns</p>\n",
              "</div>"
            ],
            "text/plain": [
              "     Age        BMI  Glucose  Insulin  ...   Leptin  Adiponectin  Resistin    MCP.1\n",
              "0     48  23.500000       70    2.707  ...   8.8071     9.702400   7.99585  417.114\n",
              "1     83  20.690495       92    3.115  ...   8.8438     5.429285   4.06405  468.786\n",
              "2     82  23.124670       91    4.498  ...  17.9393    22.432040   9.27715  554.697\n",
              "3     68  21.367521       77    3.226  ...   9.8827     7.169560  12.76600  928.220\n",
              "4     86  21.111111       92    3.549  ...   6.6994     4.819240  10.57635  773.920\n",
              "..   ...        ...      ...      ...  ...      ...          ...       ...      ...\n",
              "111   45  26.850000       92    3.330  ...  54.6800    12.100000  10.96000  268.230\n",
              "112   62  26.840000      100    4.530  ...  12.4500    21.420000   7.32000  330.160\n",
              "113   65  32.050000       97    5.730  ...  61.4800    22.540000  10.33000  314.050\n",
              "114   72  25.590000       82    2.820  ...  24.9600    33.750000   3.27000  392.460\n",
              "115   86  27.180000      138   19.910  ...  90.2800    14.110000   4.35000   90.090\n",
              "\n",
              "[116 rows x 9 columns]"
            ]
          },
          "metadata": {
            "tags": []
          },
          "execution_count": 12
        }
      ]
    },
    {
      "cell_type": "code",
      "metadata": {
        "id": "jeKHp1ezzoRo",
        "colab": {
          "base_uri": "https://localhost:8080/",
          "height": 218
        },
        "outputId": "55c66a27-3243-4003-cb47-0a29a849b8bf"
      },
      "source": [
        "g = df.Classification\n",
        "g"
      ],
      "execution_count": null,
      "outputs": [
        {
          "output_type": "execute_result",
          "data": {
            "text/plain": [
              "0      0\n",
              "1      0\n",
              "2      0\n",
              "3      0\n",
              "4      0\n",
              "      ..\n",
              "111    1\n",
              "112    1\n",
              "113    1\n",
              "114    1\n",
              "115    1\n",
              "Name: Classification, Length: 116, dtype: int64"
            ]
          },
          "metadata": {
            "tags": []
          },
          "execution_count": 13
        }
      ]
    },
    {
      "cell_type": "code",
      "metadata": {
        "id": "80E4AwjFzq07",
        "colab": {
          "base_uri": "https://localhost:8080/",
          "height": 34
        },
        "outputId": "64a8d505-01e2-428e-afbf-15e6d804b781"
      },
      "source": [
        "z.shape"
      ],
      "execution_count": null,
      "outputs": [
        {
          "output_type": "execute_result",
          "data": {
            "text/plain": [
              "(116, 9)"
            ]
          },
          "metadata": {
            "tags": []
          },
          "execution_count": 14
        }
      ]
    },
    {
      "cell_type": "code",
      "metadata": {
        "id": "UTPxJ3C4zs4c",
        "colab": {
          "base_uri": "https://localhost:8080/",
          "height": 1000
        },
        "outputId": "3fd78260-94c2-4243-c9fe-726ae4667ce8"
      },
      "source": [
        "z_train, z_test, g_train, g_test = train_test_split(z,g, test_size = 0.2,random_state = 0, stratify = g)\n",
        "\n",
        "z_train = np.asarray(z_train)\n",
        "g_train = np.asarray(g_train)\n",
        "z_test = np.asarray(z_test)\n",
        "g_test = np.asarray(g_test)\n",
        "z_train"
      ],
      "execution_count": null,
      "outputs": [
        {
          "output_type": "execute_result",
          "data": {
            "text/plain": [
              "array([[5.40000000e+01, 3.60500000e+01, 1.19000000e+02, 1.19100000e+01,\n",
              "        3.49598200e+00, 8.92700000e+01, 8.01000000e+00, 5.06000000e+00,\n",
              "        2.18280000e+02],\n",
              "       [5.30000000e+01, 3.67901662e+01, 1.01000000e+02, 1.01750000e+01,\n",
              "        2.53493167e+00, 2.71841000e+01, 2.00300000e+01, 1.02630900e+01,\n",
              "        6.95754000e+02],\n",
              "       [7.20000000e+01, 2.55900000e+01, 8.20000000e+01, 2.82000000e+00,\n",
              "        5.70392000e-01, 2.49600000e+01, 3.37500000e+01, 3.27000000e+00,\n",
              "        3.92460000e+02],\n",
              "       [5.10000000e+01, 1.91326531e+01, 9.30000000e+01, 4.36400000e+00,\n",
              "        1.00110160e+00, 1.10816000e+01, 5.80762000e+00, 5.57055000e+00,\n",
              "        9.06000000e+01],\n",
              "       [3.80000000e+01, 2.33400000e+01, 7.50000000e+01, 5.78200000e+00,\n",
              "        1.06967000e+00, 1.52600000e+01, 1.79500000e+01, 9.35000000e+00,\n",
              "        1.65020000e+02],\n",
              "       [4.50000000e+01, 2.31404959e+01, 1.16000000e+02, 4.90200000e+00,\n",
              "        1.40262560e+00, 1.79973000e+01, 4.29470500e+00, 5.26330000e+00,\n",
              "        5.18586000e+02],\n",
              "       [5.90000000e+01, 2.28328793e+01, 9.80000000e+01, 6.86200000e+00,\n",
              "        1.65877413e+00, 1.49037000e+01, 4.23010500e+00, 8.20490000e+00,\n",
              "        3.55310000e+02],\n",
              "       [3.40000000e+01, 2.42424242e+01, 9.20000000e+01, 2.16990000e+01,\n",
              "        4.92422640e+00, 1.67353000e+01, 2.18237450e+01, 1.20653400e+01,\n",
              "        4.81949000e+02],\n",
              "       [5.10000000e+01, 1.83700000e+01, 1.05000000e+02, 6.03000000e+00,\n",
              "        1.56177000e+00, 9.62000000e+00, 1.27600000e+01, 3.21000000e+00,\n",
              "        5.13660000e+02],\n",
              "       [4.30000000e+01, 3.44221736e+01, 8.90000000e+01, 2.31940000e+01,\n",
              "        5.09185613e+00, 3.12128000e+01, 8.30095500e+00, 6.71026000e+00,\n",
              "        9.60246000e+02],\n",
              "       [2.80000000e+01, 3.58558147e+01, 8.70000000e+01, 8.57600000e+00,\n",
              "        1.84040960e+00, 6.85102000e+01, 4.79420000e+00, 2.14436600e+01,\n",
              "        3.58624000e+02],\n",
              "       [6.60000000e+01, 3.62122789e+01, 1.01000000e+02, 1.55330000e+01,\n",
              "        3.86978807e+00, 7.47069000e+01, 7.53955000e+00, 2.23202400e+01,\n",
              "        8.64968000e+02],\n",
              "       [7.60000000e+01, 2.92184076e+01, 8.30000000e+01, 5.37600000e+00,\n",
              "        1.10064640e+00, 2.85620000e+01, 7.36996000e+00, 8.04375000e+00,\n",
              "        6.98789000e+02],\n",
              "       [8.60000000e+01, 2.11111111e+01, 9.20000000e+01, 3.54900000e+00,\n",
              "        8.05386400e-01, 6.69940000e+00, 4.81924000e+00, 1.05763500e+01,\n",
              "        7.73920000e+02],\n",
              "       [6.90000000e+01, 3.25000000e+01, 9.30000000e+01, 5.43000000e+00,\n",
              "        1.24564200e+00, 1.51450000e+01, 1.17879600e+01, 1.17879600e+01,\n",
              "        2.70142000e+02],\n",
              "       [6.60000000e+01, 2.77000000e+01, 9.00000000e+01, 6.04200000e+00,\n",
              "        1.34132400e+00, 2.48460000e+01, 7.65205500e+00, 6.70520000e+00,\n",
              "        2.25880000e+02],\n",
              "       [6.50000000e+01, 3.20500000e+01, 9.70000000e+01, 5.73000000e+00,\n",
              "        1.37099800e+00, 6.14800000e+01, 2.25400000e+01, 1.03300000e+01,\n",
              "        3.14050000e+02],\n",
              "       [8.60000000e+01, 2.66666667e+01, 2.01000000e+02, 4.16110000e+01,\n",
              "        2.06307338e+01, 4.76470000e+01, 5.35713500e+00, 2.43701000e+01,\n",
              "        1.69844000e+03],\n",
              "       [5.10000000e+01, 2.28928200e+01, 1.03000000e+02, 2.74000000e+00,\n",
              "        6.96142667e-01, 8.01630000e+00, 9.34977500e+00, 1.15549200e+01,\n",
              "        3.59232000e+02],\n",
              "       [6.90000000e+01, 3.50927015e+01, 1.01000000e+02, 5.64600000e+00,\n",
              "        1.40660680e+00, 8.34821000e+01, 6.79698500e+00, 8.21000000e+01,\n",
              "        2.63499000e+02],\n",
              "       [6.20000000e+01, 2.26562500e+01, 9.20000000e+01, 3.48200000e+00,\n",
              "        7.90181867e-01, 9.86480000e+00, 1.12362350e+01, 1.06954800e+01,\n",
              "        7.03973000e+02],\n",
              "       [4.60000000e+01, 2.22100000e+01, 8.60000000e+01, 3.69400000e+01,\n",
              "        7.83620533e+00, 1.01600000e+01, 9.76000000e+00, 5.68000000e+00,\n",
              "        3.12000000e+02],\n",
              "       [6.10000000e+01, 3.20389594e+01, 8.50000000e+01, 1.80770000e+01,\n",
              "        3.79014433e+00, 3.07729000e+01, 7.78025500e+00, 1.36839200e+01,\n",
              "        4.44395000e+02],\n",
              "       [4.90000000e+01, 2.97777778e+01, 7.00000000e+01, 8.39600000e+00,\n",
              "        1.44970933e+00, 5.13387000e+01, 1.07317400e+01, 2.07680100e+01,\n",
              "        6.02486000e+02],\n",
              "       [4.10000000e+01, 2.66727633e+01, 9.70000000e+01, 2.20330000e+01,\n",
              "        5.27176247e+00, 4.47059000e+01, 1.34948650e+01, 2.78325000e+01,\n",
              "        7.83796000e+02],\n",
              "       [7.10000000e+01, 2.55102041e+01, 1.12000000e+02, 1.03950000e+01,\n",
              "        2.87179200e+00, 1.90653000e+01, 5.48610000e+00, 4.27447000e+01,\n",
              "        7.99898000e+02],\n",
              "       [3.60000000e+01, 2.85766759e+01, 8.60000000e+01, 4.34500000e+00,\n",
              "        9.21719333e-01, 1.51248000e+01, 8.60000000e+00, 9.15390000e+00,\n",
              "        5.34224000e+02],\n",
              "       [7.60000000e+01, 2.38000000e+01, 1.18000000e+02, 6.47000000e+00,\n",
              "        1.88320133e+00, 4.31100000e+00, 1.32513200e+01, 5.10420000e+00,\n",
              "        2.80694000e+02],\n",
              "       [7.20000000e+01, 2.91363163e+01, 8.30000000e+01, 1.09490000e+01,\n",
              "        2.24162527e+00, 2.68081000e+01, 2.78491000e+00, 1.47696600e+01,\n",
              "        2.32018000e+02],\n",
              "       [7.10000000e+01, 2.79155188e+01, 1.04000000e+02, 1.82000000e+01,\n",
              "        4.66890667e+00, 5.34997000e+01, 1.65602000e+00, 4.92418400e+01,\n",
              "        2.56001000e+02],\n",
              "       [2.50000000e+01, 2.28600000e+01, 8.20000000e+01, 4.09000000e+00,\n",
              "        8.27270667e-01, 2.04500000e+01, 2.36700000e+01, 5.14000000e+00,\n",
              "        3.13730000e+02],\n",
              "       [6.60000000e+01, 3.14465409e+01, 9.00000000e+01, 9.24500000e+00,\n",
              "        2.05239000e+00, 4.59624000e+01, 1.03552600e+01, 2.33819000e+01,\n",
              "        1.10211000e+03],\n",
              "       [4.40000000e+01, 2.78876171e+01, 9.90000000e+01, 9.20800000e+00,\n",
              "        2.24859360e+00, 1.26757000e+01, 5.47817000e+00, 2.30330600e+01,\n",
              "        4.07206000e+02],\n",
              "       [6.70000000e+01, 2.96067673e+01, 7.90000000e+01, 5.81900000e+00,\n",
              "        1.13392913e+00, 2.19033000e+01, 2.19428000e+00, 4.20750000e+00,\n",
              "        5.85307000e+02],\n",
              "       [4.20000000e+01, 2.92968750e+01, 9.80000000e+01, 4.17200000e+00,\n",
              "        1.00851147e+00, 1.22617000e+01, 6.69558500e+00, 5.36717000e+01,\n",
              "        1.04184300e+03],\n",
              "       [5.40000000e+01, 3.04831581e+01, 9.00000000e+01, 5.53700000e+00,\n",
              "        1.22921400e+00, 1.23310000e+01, 9.73138000e+00, 1.01929900e+01,\n",
              "        1.22791000e+03],\n",
              "       [8.20000000e+01, 2.31246704e+01, 9.10000000e+01, 4.49800000e+00,\n",
              "        1.00965107e+00, 1.79393000e+01, 2.24320400e+01, 9.27715000e+00,\n",
              "        5.54697000e+02],\n",
              "       [4.50000000e+01, 2.93847567e+01, 9.00000000e+01, 4.71300000e+00,\n",
              "        1.04628600e+00, 2.38479000e+01, 6.64424500e+00, 1.55562500e+01,\n",
              "        6.21273000e+02],\n",
              "       [6.20000000e+01, 2.68400000e+01, 1.00000000e+02, 4.53000000e+00,\n",
              "        1.11740000e+00, 1.24500000e+01, 2.14200000e+01, 7.32000000e+00,\n",
              "        3.30160000e+02],\n",
              "       [4.50000000e+01, 2.08299952e+01, 7.40000000e+01, 4.56000000e+00,\n",
              "        8.32352000e-01, 7.75290000e+00, 8.23740500e+00, 2.80323000e+01,\n",
              "        3.82955000e+02],\n",
              "       [4.40000000e+01, 2.47400000e+01, 1.06000000e+02, 5.84600000e+01,\n",
              "        1.52853413e+01, 1.81600000e+01, 1.61000000e+01, 5.31000000e+00,\n",
              "        2.44750000e+02],\n",
              "       [4.70000000e+01, 2.20300000e+01, 8.40000000e+01, 2.86900000e+00,\n",
              "        5.90000000e-01, 2.66500000e+01, 3.80400000e+01, 3.32000000e+00,\n",
              "        1.91720000e+02],\n",
              "       [5.50000000e+01, 3.19750149e+01, 9.20000000e+01, 1.66350000e+01,\n",
              "        3.77503600e+00, 3.72234000e+01, 1.10184550e+01, 7.16514000e+00,\n",
              "        4.83377000e+02],\n",
              "       [2.40000000e+01, 1.86700000e+01, 8.80000000e+01, 6.10700000e+00,\n",
              "        1.33000000e+00, 8.88000000e+00, 3.60600000e+01, 6.85000000e+00,\n",
              "        6.32220000e+02],\n",
              "       [4.30000000e+01, 2.65625000e+01, 1.01000000e+02, 1.05550000e+01,\n",
              "        2.62960233e+00, 9.80000000e+00, 6.42029500e+00, 1.61000000e+01,\n",
              "        8.06724000e+02],\n",
              "       [5.00000000e+01, 3.85787585e+01, 1.06000000e+02, 6.70300000e+00,\n",
              "        1.75261107e+00, 4.66401000e+01, 4.66764500e+00, 1.17838800e+01,\n",
              "        8.87160000e+02],\n",
              "       [4.50000000e+01, 2.68500000e+01, 9.20000000e+01, 3.33000000e+00,\n",
              "        7.55688000e-01, 5.46800000e+01, 1.21000000e+01, 1.09600000e+01,\n",
              "        2.68230000e+02],\n",
              "       [7.20000000e+01, 2.36200000e+01, 1.05000000e+02, 4.42000000e+00,\n",
              "        1.14478000e+00, 2.17800000e+01, 1.78600000e+01, 4.82000000e+00,\n",
              "        1.95940000e+02],\n",
              "       [5.80000000e+01, 2.91545189e+01, 1.39000000e+02, 1.65820000e+01,\n",
              "        5.68541507e+00, 2.28884000e+01, 1.02626600e+01, 1.39739900e+01,\n",
              "        9.23886000e+02],\n",
              "       [6.00000000e+01, 2.63492921e+01, 1.03000000e+02, 5.13800000e+00,\n",
              "        1.30539453e+00, 2.42998000e+01, 2.19428000e+00, 2.02535000e+01,\n",
              "        3.78996000e+02],\n",
              "       [6.50000000e+01, 3.09155767e+01, 9.70000000e+01, 1.04910000e+01,\n",
              "        2.51014660e+00, 4.40217000e+01, 3.71009000e+00, 2.04685000e+01,\n",
              "        3.96648000e+02],\n",
              "       [5.10000000e+01, 2.76887781e+01, 7.70000000e+01, 3.85500000e+00,\n",
              "        7.32193000e-01, 2.00920000e+01, 3.19209000e+00, 1.03751800e+01,\n",
              "        4.73859000e+02],\n",
              "       [5.40000000e+01, 2.42187500e+01, 8.60000000e+01, 3.73000000e+00,\n",
              "        7.91257333e-01, 8.68740000e+00, 3.70523000e+00, 1.03445500e+01,\n",
              "        6.35049000e+02],\n",
              "       [4.90000000e+01, 2.28544577e+01, 9.20000000e+01, 3.22600000e+00,\n",
              "        7.32086933e-01, 6.83170000e+00, 1.36797500e+01, 1.03176000e+01,\n",
              "        5.30410000e+02],\n",
              "       [7.30000000e+01, 2.20000000e+01, 9.70000000e+01, 3.35000000e+00,\n",
              "        8.01543333e-01, 4.47000000e+00, 1.03587250e+01, 6.28445000e+00,\n",
              "        1.36855000e+02],\n",
              "       [3.60000000e+01, 3.41748900e+01, 8.00000000e+01, 6.59000000e+00,\n",
              "        1.30042667e+00, 1.02809000e+01, 5.06591500e+00, 1.57218700e+01,\n",
              "        5.81313000e+02],\n",
              "       [8.90000000e+01, 2.27000000e+01, 7.70000000e+01, 4.69000000e+00,\n",
              "        8.90787333e-01, 6.96400000e+00, 5.58986500e+00, 1.29361000e+01,\n",
              "        1.25608300e+03],\n",
              "       [6.90000000e+01, 2.15138585e+01, 1.12000000e+02, 6.68300000e+00,\n",
              "        1.84629013e+00, 3.25800000e+01, 4.13802500e+00, 1.56987600e+01,\n",
              "        7.13239000e+02],\n",
              "       [3.80000000e+01, 2.24996371e+01, 9.50000000e+01, 5.26100000e+00,\n",
              "        1.23282767e+00, 8.43800000e+00, 4.77192000e+00, 1.57360600e+01,\n",
              "        1.99055000e+02],\n",
              "       [4.90000000e+01, 2.13675214e+01, 7.80000000e+01, 2.64000000e+00,\n",
              "        5.07936000e-01, 6.33390000e+00, 3.88614500e+00, 2.29425400e+01,\n",
              "        7.37672000e+02],\n",
              "       [4.00000000e+01, 2.76360544e+01, 1.03000000e+02, 2.43200000e+00,\n",
              "        6.17890133e-01, 1.43224000e+01, 6.78387000e+00, 2.60136000e+01,\n",
              "        2.93123000e+02],\n",
              "       [7.60000000e+01, 2.71000000e+01, 1.10000000e+02, 2.62110000e+01,\n",
              "        7.11191800e+00, 2.17780000e+01, 4.93563500e+00, 8.49395000e+00,\n",
              "        4.58430000e+01],\n",
              "       [7.50000000e+01, 2.57000000e+01, 9.40000000e+01, 8.07900000e+00,\n",
              "        1.87325080e+00, 6.59260000e+01, 3.74122000e+00, 4.49685000e+00,\n",
              "        2.06802000e+02],\n",
              "       [6.60000000e+01, 2.65625000e+01, 8.90000000e+01, 6.52400000e+00,\n",
              "        1.43223547e+00, 1.49084000e+01, 8.42996000e+00, 1.49192200e+01,\n",
              "        2.69487000e+02],\n",
              "       [7.50000000e+01, 3.04800000e+01, 1.52000000e+02, 7.01000000e+00,\n",
              "        2.62828267e+00, 5.05300000e+01, 1.00600000e+01, 1.17300000e+01,\n",
              "        9.94500000e+01],\n",
              "       [4.50000000e+01, 3.70356082e+01, 8.30000000e+01, 6.76000000e+00,\n",
              "        1.38399733e+00, 3.99802000e+01, 4.61712500e+00, 8.70448000e+00,\n",
              "        5.86173000e+02],\n",
              "       [7.40000000e+01, 2.86501377e+01, 8.80000000e+01, 3.01200000e+00,\n",
              "        6.53804800e-01, 3.11233000e+01, 7.65222000e+00, 1.83557400e+01,\n",
              "        5.72401000e+02],\n",
              "       [4.50000000e+01, 2.02600000e+01, 9.20000000e+01, 3.44000000e+00,\n",
              "        7.80650667e-01, 7.65000000e+00, 1.66700000e+01, 7.84000000e+00,\n",
              "        1.93870000e+02],\n",
              "       [2.90000000e+01, 3.22707878e+01, 8.40000000e+01, 5.81000000e+00,\n",
              "        1.20383200e+00, 4.56196000e+01, 6.20963500e+00, 2.46033000e+01,\n",
              "        9.04981000e+02],\n",
              "       [6.80000000e+01, 3.55600000e+01, 1.31000000e+02, 8.15000000e+00,\n",
              "        2.63353667e+00, 1.78700000e+01, 1.19000000e+01, 4.19000000e+00,\n",
              "        1.98400000e+02],\n",
              "       [8.20000000e+01, 3.12174818e+01, 1.00000000e+02, 1.80770000e+01,\n",
              "        4.45899333e+00, 3.16453000e+01, 9.92365000e+00, 1.99468700e+01,\n",
              "        9.94316000e+02],\n",
              "       [8.30000000e+01, 2.06904945e+01, 9.20000000e+01, 3.11500000e+00,\n",
              "        7.06897333e-01, 8.84380000e+00, 5.42928500e+00, 4.06405000e+00,\n",
              "        4.68786000e+02],\n",
              "       [6.90000000e+01, 2.84444444e+01, 1.08000000e+02, 8.80800000e+00,\n",
              "        2.34645120e+00, 1.47485000e+01, 5.28802500e+00, 1.64850800e+01,\n",
              "        3.53568000e+02],\n",
              "       [8.50000000e+01, 2.76887781e+01, 1.96000000e+02, 5.18140000e+01,\n",
              "        2.50503419e+01, 7.08824000e+01, 7.90168500e+00, 5.52153000e+01,\n",
              "        1.07835900e+03],\n",
              "       [6.50000000e+01, 2.96665480e+01, 8.50000000e+01, 1.46490000e+01,\n",
              "        3.07140700e+00, 2.65166000e+01, 7.28287000e+00, 1.94632400e+01,\n",
              "        1.69844000e+03],\n",
              "       [7.50000000e+01, 2.73000000e+01, 8.50000000e+01, 5.19700000e+00,\n",
              "        1.08963767e+00, 1.03900000e+01, 9.00080500e+00, 7.57670000e+00,\n",
              "        3.35393000e+02],\n",
              "       [7.70000000e+01, 2.59000000e+01, 8.50000000e+01, 4.58000000e+00,\n",
              "        9.60273333e-01, 1.37400000e+01, 9.75326000e+00, 1.17740000e+01,\n",
              "        4.88829000e+02],\n",
              "       [4.90000000e+01, 2.09566075e+01, 9.40000000e+01, 1.23050000e+01,\n",
              "        2.85311933e+00, 1.12406000e+01, 8.41217500e+00, 2.31177000e+01,\n",
              "        5.73630000e+02],\n",
              "       [6.40000000e+01, 3.45297228e+01, 9.50000000e+01, 4.42700000e+00,\n",
              "        1.03739367e+00, 2.12117000e+01, 5.46262000e+00, 6.70188000e+00,\n",
              "        2.52449000e+02],\n",
              "       [5.90000000e+01, 2.86726261e+01, 7.70000000e+01, 3.18800000e+00,\n",
              "        6.05507467e-01, 1.70220000e+01, 1.64404800e+01, 3.16904000e+01,\n",
              "        9.10489000e+02],\n",
              "       [4.80000000e+01, 3.24619114e+01, 9.90000000e+01, 2.86770000e+01,\n",
              "        7.00292340e+00, 4.60760000e+01, 2.15700000e+01, 1.01572600e+01,\n",
              "        7.38034000e+02],\n",
              "       [7.60000000e+01, 2.72000000e+01, 9.40000000e+01, 1.40700000e+01,\n",
              "        3.26236400e+00, 3.58910000e+01, 9.34663000e+00, 8.41560000e+00,\n",
              "        3.77227000e+02],\n",
              "       [8.10000000e+01, 3.16403682e+01, 1.00000000e+02, 9.66900000e+00,\n",
              "        2.38502000e+00, 3.88066000e+01, 1.06365250e+01, 2.95583000e+01,\n",
              "        4.26175000e+02],\n",
              "       [2.90000000e+01, 2.30100000e+01, 8.20000000e+01, 5.66300000e+00,\n",
              "        1.14543613e+00, 3.55900000e+01, 2.67200000e+01, 4.58000000e+00,\n",
              "        1.74800000e+02],\n",
              "       [4.60000000e+01, 2.08300000e+01, 8.80000000e+01, 3.42000000e+00,\n",
              "        7.42368000e-01, 1.28700000e+01, 1.85500000e+01, 1.35600000e+01,\n",
              "        3.01210000e+02],\n",
              "       [4.40000000e+01, 2.07600000e+01, 8.60000000e+01, 7.55300000e+00,\n",
              "        1.60000000e+00, 1.40900000e+01, 2.03200000e+01, 7.64000000e+00,\n",
              "        6.36100000e+01],\n",
              "       [4.60000000e+01, 3.31800000e+01, 9.20000000e+01, 5.75000000e+00,\n",
              "        1.30486667e+00, 1.86900000e+01, 9.16000000e+00, 8.89000000e+00,\n",
              "        2.09190000e+02],\n",
              "       [4.30000000e+01, 3.12500000e+01, 1.03000000e+02, 4.32800000e+00,\n",
              "        1.09960053e+00, 2.57816000e+01, 1.27189600e+01, 3.86531000e+01,\n",
              "        7.75322000e+02],\n",
              "       [3.40000000e+01, 2.14700000e+01, 7.80000000e+01, 3.46900000e+00,\n",
              "        6.67435600e-01, 1.45700000e+01, 1.31100000e+01, 6.92000000e+00,\n",
              "        3.54600000e+02],\n",
              "       [3.50000000e+01, 3.52507611e+01, 9.00000000e+01, 6.81700000e+00,\n",
              "        1.51337400e+00, 5.06094000e+01, 6.96689500e+00, 2.20370300e+01,\n",
              "        6.67928000e+02],\n",
              "       [4.80000000e+01, 2.81250000e+01, 9.00000000e+01, 2.54000000e+00,\n",
              "        5.63880000e-01, 1.55325000e+01, 1.02223100e+01, 1.61103200e+01,\n",
              "        1.69844000e+03],\n",
              "       [8.50000000e+01, 2.66000000e+01, 9.60000000e+01, 4.46200000e+00,\n",
              "        1.05660160e+00, 7.85000000e+00, 7.93170000e+00, 9.61350000e+00,\n",
              "        2.32006000e+02]])"
            ]
          },
          "metadata": {
            "tags": []
          },
          "execution_count": 15
        }
      ]
    },
    {
      "cell_type": "code",
      "metadata": {
        "id": "ccgI6sVvyngx"
      },
      "source": [
        "def cosine(vector):\n",
        "  x, y = vector\n",
        "  dotx = K.sum(x*x, axis=1,keepdims=True)\n",
        "  doty = K.sum(y*y, axis=1,keepdims=True)\n",
        "  dotxy = K.sum(x*y, axis=1,keepdims=True)\n",
        "  cos = (dotxy/(K.sqrt(dotx) * K.sqrt(doty)))\n",
        "  return cos"
      ],
      "execution_count": null,
      "outputs": []
    },
    {
      "cell_type": "code",
      "metadata": {
        "id": "rFWKeoj3yqLt"
      },
      "source": [
        "def eucl_dist_output_shape(shapes):\n",
        "  shape1, shape2 = shapes\n",
        "  return shape1[0], 1"
      ],
      "execution_count": null,
      "outputs": []
    },
    {
      "cell_type": "code",
      "metadata": {
        "id": "7xhN-FfHyrpp"
      },
      "source": [
        "def contrastive_loss(y_true,y_pred):\n",
        "  return K.mean(y_true*(2*K.exp(-(1/K.square(y_pred-1.2)))) + (1 - y_true)*(2*K.exp(-(1/K.square(y_pred+1.2)))))"
      ],
      "execution_count": null,
      "outputs": []
    },
    {
      "cell_type": "code",
      "metadata": {
        "id": "vbEKK39-ytLb"
      },
      "source": [
        "def logistic_loss(y_true,y_pred):\n",
        "  return K.mean(K.log(1 * K.exp(-1*y_pred*y_true)))"
      ],
      "execution_count": null,
      "outputs": []
    },
    {
      "cell_type": "code",
      "metadata": {
        "id": "444aat3JyuWd"
      },
      "source": [
        "def compute_accuracy(y_true,y_pred):\n",
        "  classified = K.round(y_pred)\n",
        "  return K.mean(K.equal(classified, y_true))"
      ],
      "execution_count": null,
      "outputs": []
    },
    {
      "cell_type": "code",
      "metadata": {
        "id": "gWMESDwJywgR"
      },
      "source": [
        "def compute_final_accuracy(predictions, labels, print_prediction = False):\n",
        "  if print_prediction:\n",
        "    print(predictions)\n",
        "\n",
        "  classified = np.round(predictions.ravel())\n",
        "  return np.mean(classified == labels)"
      ],
      "execution_count": null,
      "outputs": []
    },
    {
      "cell_type": "code",
      "metadata": {
        "id": "IU1eWxwXy4ND"
      },
      "source": [
        "def difference(vector):\n",
        "  x, y = vector\n",
        "  return x-y"
      ],
      "execution_count": null,
      "outputs": []
    },
    {
      "cell_type": "code",
      "metadata": {
        "id": "9sgUm_vuy5hY"
      },
      "source": [
        "def cos_distance(vector):\n",
        "  return 1-cosine(vector)"
      ],
      "execution_count": null,
      "outputs": []
    },
    {
      "cell_type": "code",
      "metadata": {
        "id": "rw3XWnJRy8KE"
      },
      "source": [
        "def distance(cos):\n",
        "  return 1 - K.abs(cos)"
      ],
      "execution_count": null,
      "outputs": []
    },
    {
      "cell_type": "code",
      "metadata": {
        "id": "yaEKSTLTy9UY"
      },
      "source": [
        "def create_base_network(input_shape):\n",
        "  model = Sequential()\n",
        "  model.add(keras.layers.Reshape(input_shape = (9, 1), target_shape=(9,1)))\n",
        "  model.add(Conv1D(filters=32, kernel_size=2, activation = 'relu', input_shape = (9,1)))\n",
        "  model.add(BatchNormalization())\n",
        "  model.add(Dropout(0.2))\n",
        "\n",
        "  model.add(Conv1D(filters=64, kernel_size=2, activation = 'relu'))\n",
        "  model.add(BatchNormalization())\n",
        "  model.add(Dropout(0.5))\n",
        "\n",
        "  model.add(Flatten())\n",
        "  model.add(Dense(64, activation = 'relu'))\n",
        "  model.add(Dropout(0.5))\n",
        "\n",
        "  model.add(Dense(1, activation = 'sigmoid'))\n",
        "  \n",
        "  return model"
      ],
      "execution_count": null,
      "outputs": []
    },
    {
      "cell_type": "code",
      "metadata": {
        "id": "lNThOP1dy-2I"
      },
      "source": [
        "def execute(epochs=2000):\n",
        "  np.random.seed(100)\n",
        "  random.seed(100)\n",
        "  \n",
        "  #dataset\n",
        "\n",
        "  cancer = pd.read_csv('/content/drive/My Drive/Colab Notebooks/dataR234.csv')\n",
        "  x, x1, y, y1, scaler = Transformacao(cancer)\n",
        "  x_train, y_train = Montando_data_set(x,x1,y,y1)\n",
        "\n",
        "  cancer = pd.read_csv('/content/drive/My Drive/Colab Notebooks/dataR234.csv')\n",
        "  x12, x123, y12, y123 = Transformacao_teste(cancer)\n",
        "  x_test, y_test = Montando_data_set_test(x,x123,y,y123)  \n",
        "\n",
        "\n",
        "  input = (9,1)\n",
        "  base_network_w = create_base_network(input)\n",
        "  left_input = Input(shape=(input))\n",
        "  right_input = Input(shape=(input)) \n",
        "\n",
        "  left = base_network_w(left_input)\n",
        "  right = base_network_w(right_input)\n",
        "\n",
        "  #both = merge([left, right], mode = cosine, output_shape = eucl_dist_output_shape)\n",
        "  both = tf.keras.layers.Dot(axes=1)([left, right])\n",
        "\n",
        "  prediction = Dense(1,activation='sigmoid',bias_initializer=initialize_bias)(both)\n",
        "\n",
        "  model = Model(inputs=[left_input,right_input],outputs=prediction)\n",
        "\n",
        "  loss = contrastive_loss\n",
        "  optimizer = Adam(0.0005)\n",
        "  #model.compile(loss=loss, optimizer = optimizer, metrics = [contrastive_loss, compute_accuracy])\n",
        "  model.compile(loss=\"binary_crossentropy\",optimizer=optimizer, metrics=['accuracy'])\n",
        "\n",
        "  hist = model.fit(x_train, y_train, epochs=epochs,validation_data=(x_test,y_test), verbose=1)\n",
        "\n",
        "  return hist,model, x_test, y_test\n"
      ],
      "execution_count": null,
      "outputs": []
    },
    {
      "cell_type": "code",
      "metadata": {
        "id": "AImoM0UrzFhq",
        "colab": {
          "base_uri": "https://localhost:8080/",
          "height": 279
        },
        "outputId": "8c9910e3-8638-484c-c376-cfd10ed3b106"
      },
      "source": [
        "hist, model,x_test, y_test = execute()"
      ],
      "execution_count": null,
      "outputs": [
        {
          "output_type": "error",
          "ename": "NameError",
          "evalue": "ignored",
          "traceback": [
            "\u001b[0;31m---------------------------------------------------------------------------\u001b[0m",
            "\u001b[0;31mNameError\u001b[0m                                 Traceback (most recent call last)",
            "\u001b[0;32m<ipython-input-27-3f753175527e>\u001b[0m in \u001b[0;36m<module>\u001b[0;34m()\u001b[0m\n\u001b[0;32m----> 1\u001b[0;31m \u001b[0mhist\u001b[0m\u001b[0;34m,\u001b[0m \u001b[0mmodel\u001b[0m\u001b[0;34m,\u001b[0m\u001b[0mx_test\u001b[0m\u001b[0;34m,\u001b[0m \u001b[0my_test\u001b[0m \u001b[0;34m=\u001b[0m \u001b[0mexecute\u001b[0m\u001b[0;34m(\u001b[0m\u001b[0;34m)\u001b[0m\u001b[0;34m\u001b[0m\u001b[0;34m\u001b[0m\u001b[0m\n\u001b[0m",
            "\u001b[0;32m<ipython-input-26-0092cd3f58ee>\u001b[0m in \u001b[0;36mexecute\u001b[0;34m(epochs)\u001b[0m\n\u001b[1;32m      6\u001b[0m \u001b[0;34m\u001b[0m\u001b[0m\n\u001b[1;32m      7\u001b[0m   \u001b[0mcancer\u001b[0m \u001b[0;34m=\u001b[0m \u001b[0mpd\u001b[0m\u001b[0;34m.\u001b[0m\u001b[0mread_csv\u001b[0m\u001b[0;34m(\u001b[0m\u001b[0;34m'/content/drive/My Drive/Colab Notebooks/dataR234.csv'\u001b[0m\u001b[0;34m)\u001b[0m\u001b[0;34m\u001b[0m\u001b[0;34m\u001b[0m\u001b[0m\n\u001b[0;32m----> 8\u001b[0;31m   \u001b[0mx\u001b[0m\u001b[0;34m,\u001b[0m \u001b[0mx1\u001b[0m\u001b[0;34m,\u001b[0m \u001b[0my\u001b[0m\u001b[0;34m,\u001b[0m \u001b[0my1\u001b[0m\u001b[0;34m,\u001b[0m \u001b[0mscaler\u001b[0m \u001b[0;34m=\u001b[0m \u001b[0mTransformacao\u001b[0m\u001b[0;34m(\u001b[0m\u001b[0mcancer\u001b[0m\u001b[0;34m)\u001b[0m\u001b[0;34m\u001b[0m\u001b[0;34m\u001b[0m\u001b[0m\n\u001b[0m\u001b[1;32m      9\u001b[0m   \u001b[0mx_train\u001b[0m\u001b[0;34m,\u001b[0m \u001b[0my_train\u001b[0m \u001b[0;34m=\u001b[0m \u001b[0mMontando_data_set\u001b[0m\u001b[0;34m(\u001b[0m\u001b[0mx\u001b[0m\u001b[0;34m,\u001b[0m\u001b[0mx1\u001b[0m\u001b[0;34m,\u001b[0m\u001b[0my\u001b[0m\u001b[0;34m,\u001b[0m\u001b[0my1\u001b[0m\u001b[0;34m)\u001b[0m\u001b[0;34m\u001b[0m\u001b[0;34m\u001b[0m\u001b[0m\n\u001b[1;32m     10\u001b[0m \u001b[0;34m\u001b[0m\u001b[0m\n",
            "\u001b[0;31mNameError\u001b[0m: name 'Transformacao' is not defined"
          ]
        }
      ]
    },
    {
      "cell_type": "code",
      "metadata": {
        "id": "Ubbnbi0gzG_x"
      },
      "source": [
        "def plot_learningCurve(history, epochs):\n",
        "\n",
        "  #Plot Training e validation accuracy values\n",
        "  epoch_range = range(1, epochs+1)\n",
        "  plt.plot(epoch_range, history.history['accuracy'])\n",
        "  plt.plot(epoch_range, history.history['val_accuracy'])\n",
        "  plt.title('Model Accuracy')\n",
        "  plt.ylabel('Accuracy')\n",
        "  plt.xlabel('Epoch')\n",
        "  plt.legend(['train', 'val'], loc='upper left')\n",
        "  plt.show()\n",
        "\n",
        "  #Plot training e validation accuracy loss values\n",
        "  plt.plot(epoch_range, history.history['loss'])\n",
        "  plt.plot(epoch_range, history.history['val_loss'])\n",
        "  plt.title('Model Loss')\n",
        "  plt.ylabel('Loss')\n",
        "  plt.xlabel('Epoch')\n",
        "  plt.legend(['train', 'val'], loc='upper left')\n",
        "  plt.show()"
      ],
      "execution_count": null,
      "outputs": []
    },
    {
      "cell_type": "code",
      "metadata": {
        "id": "wivqUXzWzIhN"
      },
      "source": [
        "plot_learningCurve(hist, 2000)"
      ],
      "execution_count": null,
      "outputs": []
    },
    {
      "cell_type": "code",
      "metadata": {
        "id": "R5Zvu7A9zJt-"
      },
      "source": [
        "results = model.evaluate(x_test, y_test, batch_size=128)\n",
        "print('test loss, test acc:', results)"
      ],
      "execution_count": null,
      "outputs": []
    }
  ]
}